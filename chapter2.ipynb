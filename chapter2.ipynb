{
 "metadata": {
  "language_info": {
   "codemirror_mode": {
    "name": "ipython",
    "version": 3
   },
   "file_extension": ".py",
   "mimetype": "text/x-python",
   "name": "python",
   "nbconvert_exporter": "python",
   "pygments_lexer": "ipython3",
   "version": "3.8.5-final"
  },
  "orig_nbformat": 2,
  "kernelspec": {
   "name": "python3",
   "display_name": "Python 3.8.5 64-bit ('nnfs': conda)",
   "metadata": {
    "interpreter": {
     "hash": "5d5d78ef87f5cee2682d239623d9c13fbf9c2912b16821c483e6e3d7a2be5b96"
    }
   }
  }
 },
 "nbformat": 4,
 "nbformat_minor": 2,
 "cells": [
  {
   "cell_type": "code",
   "execution_count": 10,
   "metadata": {},
   "outputs": [
    {
     "output_type": "stream",
     "name": "stdout",
     "text": [
      "The nb_black extension is already loaded. To reload it, use:\n  %reload_ext nb_black\n"
     ]
    },
    {
     "output_type": "display_data",
     "data": {
      "text/plain": "<IPython.core.display.Javascript object>",
      "application/javascript": "\n            setTimeout(function() {\n                var nbb_cell_id = 10;\n                var nbb_unformatted_code = \"%load_ext nb_black\";\n                var nbb_formatted_code = \"%load_ext nb_black\";\n                var nbb_cells = Jupyter.notebook.get_cells();\n                for (var i = 0; i < nbb_cells.length; ++i) {\n                    if (nbb_cells[i].input_prompt_number == nbb_cell_id) {\n                        if (nbb_cells[i].get_text() == nbb_unformatted_code) {\n                             nbb_cells[i].set_text(nbb_formatted_code);\n                        }\n                        break;\n                    }\n                }\n            }, 500);\n            "
     },
     "metadata": {}
    }
   ],
   "source": [
    "%load_ext nb_black"
   ]
  },
  {
   "source": [
    "# Chapter 2"
   ],
   "cell_type": "markdown",
   "metadata": {}
  },
  {
   "cell_type": "code",
   "execution_count": 15,
   "metadata": {},
   "outputs": [
    {
     "output_type": "display_data",
     "data": {
      "text/plain": "<IPython.core.display.Javascript object>",
      "application/javascript": "\n            setTimeout(function() {\n                var nbb_cell_id = 15;\n                var nbb_unformatted_code = \"inputs = [1.0, 2.0, 3.0, 2.5]\\nweights = [0.2, 0.8, -0.5, 1.0]\\nbias = 2.0\";\n                var nbb_formatted_code = \"inputs = [1.0, 2.0, 3.0, 2.5]\\nweights = [0.2, 0.8, -0.5, 1.0]\\nbias = 2.0\";\n                var nbb_cells = Jupyter.notebook.get_cells();\n                for (var i = 0; i < nbb_cells.length; ++i) {\n                    if (nbb_cells[i].input_prompt_number == nbb_cell_id) {\n                        if (nbb_cells[i].get_text() == nbb_unformatted_code) {\n                             nbb_cells[i].set_text(nbb_formatted_code);\n                        }\n                        break;\n                    }\n                }\n            }, 500);\n            "
     },
     "metadata": {}
    }
   ],
   "source": [
    "inputs = [1.0, 2.0, 3.0, 2.5]\n",
    "weights = [0.2, 0.8, -0.5, 1.0]\n",
    "bias = 2.0"
   ]
  },
  {
   "cell_type": "code",
   "execution_count": 16,
   "metadata": {},
   "outputs": [
    {
     "output_type": "execute_result",
     "data": {
      "text/plain": [
       "4.8"
      ]
     },
     "metadata": {},
     "execution_count": 16
    },
    {
     "output_type": "display_data",
     "data": {
      "text/plain": "<IPython.core.display.Javascript object>",
      "application/javascript": "\n            setTimeout(function() {\n                var nbb_cell_id = 16;\n                var nbb_unformatted_code = \"output = (\\n        inputs[0]*weights[0] + \\n        inputs[1]*weights[1] + \\n        inputs[2]*weights[2] + \\n        inputs[3]*weights[3] + \\n        bias)\\noutput\";\n                var nbb_formatted_code = \"output = (\\n    inputs[0] * weights[0]\\n    + inputs[1] * weights[1]\\n    + inputs[2] * weights[2]\\n    + inputs[3] * weights[3]\\n    + bias\\n)\\noutput\";\n                var nbb_cells = Jupyter.notebook.get_cells();\n                for (var i = 0; i < nbb_cells.length; ++i) {\n                    if (nbb_cells[i].input_prompt_number == nbb_cell_id) {\n                        if (nbb_cells[i].get_text() == nbb_unformatted_code) {\n                             nbb_cells[i].set_text(nbb_formatted_code);\n                        }\n                        break;\n                    }\n                }\n            }, 500);\n            "
     },
     "metadata": {}
    }
   ],
   "source": [
    "output = (\n",
    "        inputs[0]*weights[0] + \n",
    "        inputs[1]*weights[1] + \n",
    "        inputs[2]*weights[2] + \n",
    "        inputs[3]*weights[3] + \n",
    "        bias)\n",
    "output"
   ]
  },
  {
   "cell_type": "code",
   "execution_count": 17,
   "metadata": {},
   "outputs": [
    {
     "output_type": "execute_result",
     "data": {
      "text/plain": [
       "[4.8, 1.21, 2.385]"
      ]
     },
     "metadata": {},
     "execution_count": 17
    },
    {
     "output_type": "display_data",
     "data": {
      "text/plain": "<IPython.core.display.Javascript object>",
      "application/javascript": "\n            setTimeout(function() {\n                var nbb_cell_id = 17;\n                var nbb_unformatted_code = \"inputs = [1.0, 2.0, 3.0, 2.5]\\n\\nweights1 = [0.2, 0.8, -0.5, 1]\\nweights2 = [0.5, -0.91, 0.26, -0.5]\\nweights3 = [-0.26, -0.27, 0.17, 0.87]\\n\\nbias1 = 2\\nbias2 = 3\\nbias3 = 0.5\\n\\noutputs = [\\n    # Neuron 1\\n    inputs[0]*weights1[0] + \\n    inputs[1]*weights1[1] + \\n    inputs[2]*weights1[2] +\\n    inputs[3]*weights1[3] + \\n    bias1,\\n\\n    # Neuron 2\\n    inputs[0]*weights2[0] + \\n    inputs[1]*weights2[1] + \\n    inputs[2]*weights2[2] +\\n    inputs[3]*weights2[3] + \\n    bias2,\\n\\n    # Neuron 3\\n    inputs[0]*weights3[0] + \\n    inputs[1]*weights3[1] + \\n    inputs[2]*weights3[2] +\\n    inputs[3]*weights3[3] + \\n    bias3\\n]\\noutputs\";\n                var nbb_formatted_code = \"inputs = [1.0, 2.0, 3.0, 2.5]\\n\\nweights1 = [0.2, 0.8, -0.5, 1]\\nweights2 = [0.5, -0.91, 0.26, -0.5]\\nweights3 = [-0.26, -0.27, 0.17, 0.87]\\n\\nbias1 = 2\\nbias2 = 3\\nbias3 = 0.5\\n\\noutputs = [\\n    # Neuron 1\\n    inputs[0] * weights1[0]\\n    + inputs[1] * weights1[1]\\n    + inputs[2] * weights1[2]\\n    + inputs[3] * weights1[3]\\n    + bias1,\\n    # Neuron 2\\n    inputs[0] * weights2[0]\\n    + inputs[1] * weights2[1]\\n    + inputs[2] * weights2[2]\\n    + inputs[3] * weights2[3]\\n    + bias2,\\n    # Neuron 3\\n    inputs[0] * weights3[0]\\n    + inputs[1] * weights3[1]\\n    + inputs[2] * weights3[2]\\n    + inputs[3] * weights3[3]\\n    + bias3,\\n]\\noutputs\";\n                var nbb_cells = Jupyter.notebook.get_cells();\n                for (var i = 0; i < nbb_cells.length; ++i) {\n                    if (nbb_cells[i].input_prompt_number == nbb_cell_id) {\n                        if (nbb_cells[i].get_text() == nbb_unformatted_code) {\n                             nbb_cells[i].set_text(nbb_formatted_code);\n                        }\n                        break;\n                    }\n                }\n            }, 500);\n            "
     },
     "metadata": {}
    }
   ],
   "source": [
    "inputs = [1.0, 2.0, 3.0, 2.5]\n",
    "\n",
    "weights1 = [0.2, 0.8, -0.5, 1]\n",
    "weights2 = [0.5, -0.91, 0.26, -0.5]\n",
    "weights3 = [-0.26, -0.27, 0.17, 0.87]\n",
    "\n",
    "bias1 = 2\n",
    "bias2 = 3\n",
    "bias3 = 0.5\n",
    "\n",
    "outputs = [\n",
    "    # Neuron 1\n",
    "    inputs[0]*weights1[0] + \n",
    "    inputs[1]*weights1[1] + \n",
    "    inputs[2]*weights1[2] +\n",
    "    inputs[3]*weights1[3] + \n",
    "    bias1,\n",
    "\n",
    "    # Neuron 2\n",
    "    inputs[0]*weights2[0] + \n",
    "    inputs[1]*weights2[1] + \n",
    "    inputs[2]*weights2[2] +\n",
    "    inputs[3]*weights2[3] + \n",
    "    bias2,\n",
    "\n",
    "    # Neuron 3\n",
    "    inputs[0]*weights3[0] + \n",
    "    inputs[1]*weights3[1] + \n",
    "    inputs[2]*weights3[2] +\n",
    "    inputs[3]*weights3[3] + \n",
    "    bias3\n",
    "]\n",
    "outputs"
   ]
  },
  {
   "cell_type": "code",
   "execution_count": 18,
   "metadata": {},
   "outputs": [
    {
     "output_type": "display_data",
     "data": {
      "text/plain": "<IPython.core.display.Javascript object>",
      "application/javascript": "\n            setTimeout(function() {\n                var nbb_cell_id = 18;\n                var nbb_unformatted_code = \"inputs = [1, 2, 3, 2.5]\\nweights = [\\n    [0.2, 0.8, -0.5, 1],\\n    [0.5, -0.91, 0.26, -0.5],\\n    [-0.26, -0.27, 0.17, 0.87]]\\nbiases = [2, 3, 0.5]\";\n                var nbb_formatted_code = \"inputs = [1, 2, 3, 2.5]\\nweights = [[0.2, 0.8, -0.5, 1], [0.5, -0.91, 0.26, -0.5], [-0.26, -0.27, 0.17, 0.87]]\\nbiases = [2, 3, 0.5]\";\n                var nbb_cells = Jupyter.notebook.get_cells();\n                for (var i = 0; i < nbb_cells.length; ++i) {\n                    if (nbb_cells[i].input_prompt_number == nbb_cell_id) {\n                        if (nbb_cells[i].get_text() == nbb_unformatted_code) {\n                             nbb_cells[i].set_text(nbb_formatted_code);\n                        }\n                        break;\n                    }\n                }\n            }, 500);\n            "
     },
     "metadata": {}
    }
   ],
   "source": [
    "inputs = [1, 2, 3, 2.5]\n",
    "weights = [\n",
    "    [0.2, 0.8, -0.5, 1],\n",
    "    [0.5, -0.91, 0.26, -0.5],\n",
    "    [-0.26, -0.27, 0.17, 0.87]]\n",
    "biases = [2, 3, 0.5]"
   ]
  },
  {
   "cell_type": "code",
   "execution_count": 20,
   "metadata": {},
   "outputs": [
    {
     "output_type": "execute_result",
     "data": {
      "text/plain": [
       "[4.8, 1.21, 2.385]"
      ]
     },
     "metadata": {},
     "execution_count": 20
    },
    {
     "output_type": "display_data",
     "data": {
      "text/plain": "<IPython.core.display.Javascript object>",
      "application/javascript": "\n            setTimeout(function() {\n                var nbb_cell_id = 20;\n                var nbb_unformatted_code = \"layer_outputs = []\\n\\nfor n_weights, n_bias in zip(weights, biases):\\n    n_output = 0\\n\\n    for input, weight in zip(inputs, n_weights):\\n        n_output += input*weight\\n    n_output += n_bias\\n\\n    layer_outputs.append(n_output)\\n\\nlayer_outputs\";\n                var nbb_formatted_code = \"layer_outputs = []\\n\\nfor n_weights, n_bias in zip(weights, biases):\\n    n_output = 0\\n\\n    for input, weight in zip(inputs, n_weights):\\n        n_output += input * weight\\n    n_output += n_bias\\n\\n    layer_outputs.append(n_output)\\n\\nlayer_outputs\";\n                var nbb_cells = Jupyter.notebook.get_cells();\n                for (var i = 0; i < nbb_cells.length; ++i) {\n                    if (nbb_cells[i].input_prompt_number == nbb_cell_id) {\n                        if (nbb_cells[i].get_text() == nbb_unformatted_code) {\n                             nbb_cells[i].set_text(nbb_formatted_code);\n                        }\n                        break;\n                    }\n                }\n            }, 500);\n            "
     },
     "metadata": {}
    }
   ],
   "source": [
    "layer_outputs = []\n",
    "\n",
    "for n_weights, n_bias in zip(weights, biases):\n",
    "    n_output = 0\n",
    "\n",
    "    for input, weight in zip(inputs, n_weights):\n",
    "        n_output += input*weight\n",
    "    n_output += n_bias\n",
    "\n",
    "    layer_outputs.append(n_output)\n",
    "\n",
    "layer_outputs"
   ]
  },
  {
   "cell_type": "code",
   "execution_count": 2,
   "metadata": {},
   "outputs": [],
   "source": [
    "import numpy as np"
   ]
  },
  {
   "cell_type": "code",
   "execution_count": 22,
   "metadata": {},
   "outputs": [
    {
     "output_type": "execute_result",
     "data": {
      "text/plain": [
       "4.8"
      ]
     },
     "metadata": {},
     "execution_count": 22
    },
    {
     "output_type": "display_data",
     "data": {
      "text/plain": "<IPython.core.display.Javascript object>",
      "application/javascript": "\n            setTimeout(function() {\n                var nbb_cell_id = 22;\n                var nbb_unformatted_code = \"inputs = [1.0, 2.0, 3.0, 2.5]\\nweights = [0.2, 0.8, -0.5, 1.0]\\nbias = 2.0\\n\\nnp.dot(inputs, weights) + bias\";\n                var nbb_formatted_code = \"inputs = [1.0, 2.0, 3.0, 2.5]\\nweights = [0.2, 0.8, -0.5, 1.0]\\nbias = 2.0\\n\\nnp.dot(inputs, weights) + bias\";\n                var nbb_cells = Jupyter.notebook.get_cells();\n                for (var i = 0; i < nbb_cells.length; ++i) {\n                    if (nbb_cells[i].input_prompt_number == nbb_cell_id) {\n                        if (nbb_cells[i].get_text() == nbb_unformatted_code) {\n                             nbb_cells[i].set_text(nbb_formatted_code);\n                        }\n                        break;\n                    }\n                }\n            }, 500);\n            "
     },
     "metadata": {}
    }
   ],
   "source": [
    "inputs = [1.0, 2.0, 3.0, 2.5]\n",
    "weights = [0.2, 0.8, -0.5, 1.0]\n",
    "bias = 2.0\n",
    "\n",
    "np.dot(inputs, weights) + bias"
   ]
  },
  {
   "cell_type": "code",
   "execution_count": 7,
   "metadata": {},
   "outputs": [
    {
     "output_type": "execute_result",
     "data": {
      "text/plain": [
       "array([4.8  , 1.21 , 2.385])"
      ]
     },
     "metadata": {},
     "execution_count": 7
    }
   ],
   "source": [
    "inputs = [1.0, 2.0, 3.0, 2.5]\n",
    "weights = [\n",
    "    [0.2, 0.8, -0.5, 1.0],\n",
    "    [0.5, -0.91, 0.26, -0.5],\n",
    "    [-0.26, -0.27, 0.17, 0.87]\n",
    "]\n",
    "biases = [2.0, 3.0, 0.5]\n",
    "\n",
    "np.dot(weights, inputs) + biases"
   ]
  },
  {
   "source": [
    "To perform a matrix product, the size of the second dimension of the left matrix must match the\n",
    "size of the first dimension of the right matrix. For example, if the left matrix has a shape of (5,\n",
    "4) then the right matrix must match this 4 within the first shape value (4, 7). The shape of the\n",
    "resulting array is always the first dimension of the left array and the second dimension of the right\n",
    "array, (5, 7)."
   ],
   "cell_type": "markdown",
   "metadata": {}
  },
  {
   "cell_type": "code",
   "execution_count": 10,
   "metadata": {},
   "outputs": [
    {
     "output_type": "execute_result",
     "data": {
      "text/plain": [
       "array([[  4.3 ,   8.6 ,  12.9 ,  17.2 ,  21.5 ,  25.8 ,  30.1 ],\n",
       "       [ -2.54,  -5.08,  -7.62, -10.16, -12.7 , -15.24, -17.78],\n",
       "       [  3.19,   6.38,   9.57,  12.76,  15.95,  19.14,  22.33]])"
      ]
     },
     "metadata": {},
     "execution_count": 10
    }
   ],
   "source": [
    "# 4x7 matrix (4 inputs by 7 batches)\n",
    "inputs = [\n",
    "    [1.0, 2.0, 3.0, 4.0, 5.0, 6.0, 7.0],\n",
    "    [2.0, 4.0, 6.0, 8.0, 10.0, 12.0, 14.0],\n",
    "    [3.0, 6.0, 9.0, 12.0, 15.0, 18.0, 21.0],\n",
    "    [4.0, 8.0, 12.0, 16.0, 20.0, 24.0, 28.0]\n",
    "]\n",
    "\n",
    "# 3x4 matrix (3 neurons by 4 weights)\n",
    "weights = [\n",
    "    [0.2, 0.8, -0.5, 1.0],\n",
    "    [0.5, -0.91, 0.26, -0.5],\n",
    "    [-0.26, -0.27, 0.17, 0.87]\n",
    "]\n",
    "# 3x0 matrix (3 neurons by nothing), I think if I have [[2], [3], [0.5]] then its 3x1\n",
    "biases = [2.0, 3.0, 0.5]\n",
    "\n",
    "# I expect an ouput matrix of 3x7 (3 neurons by 7 batches)\n",
    "np.dot(weights, inputs)"
   ]
  },
  {
   "cell_type": "code",
   "execution_count": 14,
   "metadata": {},
   "outputs": [
    {
     "output_type": "execute_result",
     "data": {
      "text/plain": [
       "array([[  6.3 ,  10.6 ,  14.9 ,  19.2 ,  23.5 ,  27.8 ,  32.1 ],\n",
       "       [  0.46,  -2.08,  -4.62,  -7.16,  -9.7 , -12.24, -14.78],\n",
       "       [  3.69,   6.88,  10.07,  13.26,  16.45,  19.64,  22.83]])"
      ]
     },
     "metadata": {},
     "execution_count": 14
    }
   ],
   "source": [
    "# 3x1 (3 neurons  by 1 bias)\r\n",
    "biases = [[2.0], [3.0], [0.5]]\r\n",
    "\r\n",
    "np.dot(weights, inputs) + biases"
   ]
  },
  {
   "source": [
    "Testing transpose so I can have my inputs be batches x inputs"
   ],
   "cell_type": "markdown",
   "metadata": {}
  },
  {
   "cell_type": "code",
   "execution_count": 17,
   "metadata": {},
   "outputs": [
    {
     "output_type": "execute_result",
     "data": {
      "text/plain": [
       "array([[  4.3 ,   8.6 ,  12.9 ,  17.2 ,  21.5 ,  26.8 ,  30.1 ],\n",
       "       [ -2.54,  -5.08,  -7.62, -10.16, -12.7 , -15.76, -17.78],\n",
       "       [  3.19,   6.38,   9.57,  12.76,  15.95,  18.8 ,  22.33]])"
      ]
     },
     "metadata": {},
     "execution_count": 17
    }
   ],
   "source": [
    "inputs = [\n",
    "    [1.0, 2.0, 3.0, 4.0],\n",
    "    [2.0, 4.0, 6.0, 8.0],\n",
    "    [3.0, 6.0, 9.0, 12.0],\n",
    "    [4.0, 8.0, 12.0, 16.0],\n",
    "    [5.0, 10.0, 15.0, 20.0],\n",
    "    [6.0, 12.0, 16.0, 24.0],\n",
    "    [7.0, 14.0, 21.0, 28.0]\n",
    "]\n",
    "\n",
    "arr = np.array(inputs)\n",
    "np.dot(weights, arr.T)"
   ]
  },
  {
   "cell_type": "code",
   "execution_count": 21,
   "metadata": {},
   "outputs": [
    {
     "output_type": "execute_result",
     "data": {
      "text/plain": [
       "array([[  6.3 ,  10.6 ,  14.9 ,  19.2 ,  23.5 ,  28.8 ,  32.1 ],\n",
       "       [  0.46,  -2.08,  -4.62,  -7.16,  -9.7 , -12.76, -14.78],\n",
       "       [  3.69,   6.88,  10.07,  13.26,  16.45,  19.3 ,  22.83]])"
      ]
     },
     "metadata": {},
     "execution_count": 21
    }
   ],
   "source": [
    "biases = [2.0, 3.0, 0.5]\n",
    "np.dot(weights, arr.T) + np.array([biases]).T"
   ]
  },
  {
   "source": [
    "nxm = n rows by m columns"
   ],
   "cell_type": "markdown",
   "metadata": {}
  },
  {
   "cell_type": "code",
   "execution_count": 23,
   "metadata": {},
   "outputs": [
    {
     "output_type": "stream",
     "name": "stdout",
     "text": [
      "[[ 2.8   -1.79   1.885]\n [ 6.9   -4.81  -0.3  ]\n [-0.59  -1.949 -0.474]]\n[[ 4.8    1.21   2.385]\n [ 8.9   -1.81   0.2  ]\n [ 1.41   1.051  0.026]]\n"
     ]
    }
   ],
   "source": [
    "# 3x4 matrix (3 batches by 4 inputs)\n",
    "inputs = [\n",
    "    [1.0, 2.0, 3.0, 2.5],\n",
    "    [2.0, 5.0, -1.0, 2.0],\n",
    "    [-1.5, 2.7, 3.3, -0.8]\n",
    "]\n",
    "\n",
    "# 3x4 matrix (3 neurons by 4 weights)\n",
    "weights = [\n",
    "    [0.2, 0.8, -0.5, 1.0],\n",
    "    [0.5, -0.91, 0.26, -0.5],\n",
    "    [-0.26, -0.27, 0.17, 0.87]\n",
    "]\n",
    "biases = [2.0, 3.0, 0.5]\n",
    "\n",
    "output = np.dot(inputs, np.array(weights).T)\n",
    "# 3x3 (3 batches by 3 neurons)\n",
    "print(output)\n",
    "print(output + biases)\n"
   ]
  },
  {
   "source": [
    "matrix + vector = vector is added to each row of the matrix elemenet wise"
   ],
   "cell_type": "markdown",
   "metadata": {}
  },
  {
   "cell_type": "code",
   "execution_count": null,
   "metadata": {},
   "outputs": [],
   "source": []
  }
 ]
}